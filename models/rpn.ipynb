{
 "cells": [
  {
   "cell_type": "code",
   "execution_count": 8,
   "metadata": {},
   "outputs": [
    {
     "name": "stdout",
     "output_type": "stream",
     "text": [
      "2.0.0 False\n",
      "2.28.2\n",
      "not available\n",
      "clang 14.0.0\n"
     ]
    }
   ],
   "source": [
    "# Check Pytorch installation\n",
    "import torch, torchvision\n",
    "print(torch.__version__, torch.cuda.is_available())\n",
    "\n",
    "# Check MMDetection installation\n",
    "import mmdet\n",
    "print(mmdet.__version__)\n",
    "# from mmdet.apis import multi_gpu_test, single_gpu_test\n",
    "\n",
    "# Check mmcv installation\n",
    "from mmcv.ops import get_compiling_cuda_version, get_compiler_version\n",
    "print(get_compiling_cuda_version())\n",
    "print(get_compiler_version())"
   ]
  },
  {
   "attachments": {},
   "cell_type": "markdown",
   "metadata": {},
   "source": [
    "# RPN (R-50-FPN Backbone)\n",
    "The model weights were taken from https://github.com/open-mmlab/mmdetection/tree/master/configs/rpn."
   ]
  },
  {
   "cell_type": "code",
   "execution_count": 3,
   "metadata": {},
   "outputs": [
    {
     "name": "stdout",
     "output_type": "stream",
     "text": [
      "  % Total    % Received % Xferd  Average Speed   Time    Time     Time  Current\n",
      "                                 Dload  Upload   Total   Spent    Left  Speed\n",
      "100  104M  100  104M    0     0  1259k      0  0:01:25  0:01:25 --:--:-- 1296k:01:25  0:01:24  0:00:01 1290k\n"
     ]
    }
   ],
   "source": [
    "# Weights\n",
    "!cd ../mmdetection && curl https://download.openmmlab.com/mmdetection/v2.0/rpn/rpn_r50_fpn_1x_coco/rpn_r50_fpn_1x_coco_20200218-5525fa2e.pth -o weights/rpn.pth"
   ]
  },
  {
   "cell_type": "code",
   "execution_count": 5,
   "metadata": {},
   "outputs": [
    {
     "name": "stdout",
     "output_type": "stream",
     "text": [
      "/Users/rudyorre/object-detection/venv/lib/python3.10/site-packages/mmcv/__init__.py:20: UserWarning: On January 1, 2023, MMCV will release v2.0.0, in which it will remove components related to the training process and add a data transformation module. In addition, it will rename the package names mmcv to mmcv-lite and mmcv-full to mmcv. See https://github.com/open-mmlab/mmcv/blob/master/docs/en/compatibility.md for more details.\n",
      "  warnings.warn(\n",
      "/Users/rudyorre/object-detection/venv/lib/python3.10/site-packages/mmdet/utils/setup_env.py:38: UserWarning: Setting OMP_NUM_THREADS environment variable for each process to be 1 in default, to avoid your system being overloaded, please further tune the variable for optimal performance in your application as needed.\n",
      "  warnings.warn(\n",
      "/Users/rudyorre/object-detection/venv/lib/python3.10/site-packages/mmdet/utils/setup_env.py:48: UserWarning: Setting MKL_NUM_THREADS environment variable for each process to be 1 in default, to avoid your system being overloaded, please further tune the variable for optimal performance in your application as needed.\n",
      "  warnings.warn(\n",
      "loading annotations into memory...\n",
      "Done (t=0.25s)\n",
      "creating index...\n",
      "index created!\n",
      "load checkpoint from local path: weights/rpn.pth\n",
      "[>>>>>>>>>>>>>>>>>>>>>>>>>] 5000/5000, 0.2 task/s, elapsed: 31708s, ETA:     0s\n",
      "Evaluating bbox...\n",
      "Traceback (most recent call last):\n",
      "  File \"/Users/rudyorre/object-detection/mmdetection/tools/test.py\", line 286, in <module>\n",
      "    main()\n",
      "  File \"/Users/rudyorre/object-detection/mmdetection/tools/test.py\", line 278, in main\n",
      "    metric = dataset.evaluate(outputs, **eval_kwargs)\n",
      "  File \"/Users/rudyorre/object-detection/venv/lib/python3.10/site-packages/mmdet/datasets/coco.py\", line 642, in evaluate\n",
      "    eval_results = self.evaluate_det_segm(results, result_files, coco_gt,\n",
      "  File \"/Users/rudyorre/object-detection/venv/lib/python3.10/site-packages/mmdet/datasets/coco.py\", line 457, in evaluate_det_segm\n",
      "    raise KeyError(f'{metric} is not in results')\n",
      "KeyError: 'bbox is not in results'\n"
     ]
    }
   ],
   "source": [
    "!cd ../mmdetection && python3 tools/test.py configs/rpn/rpn_r50_fpn_1x_coco.py weights/rpn.pth --eval bbox proposal --eval-options \"classwise=True\""
   ]
  },
  {
   "attachments": {},
   "cell_type": "markdown",
   "metadata": {},
   "source": [
    "## Citation\n",
    "```\n",
    "@inproceedings{ren2015faster,\n",
    "  title={Faster r-cnn: Towards real-time object detection with region proposal networks},\n",
    "  author={Ren, Shaoqing and He, Kaiming and Girshick, Ross and Sun, Jian},\n",
    "  booktitle={Advances in neural information processing systems},\n",
    "  year={2015}\n",
    "}\n",
    "```"
   ]
  },
  {
   "cell_type": "markdown",
   "metadata": {},
   "source": []
  }
 ],
 "metadata": {
  "kernelspec": {
   "display_name": "venv",
   "language": "python",
   "name": "python3"
  },
  "language_info": {
   "codemirror_mode": {
    "name": "ipython",
    "version": 3
   },
   "file_extension": ".py",
   "mimetype": "text/x-python",
   "name": "python",
   "nbconvert_exporter": "python",
   "pygments_lexer": "ipython3",
   "version": "3.10.6"
  },
  "orig_nbformat": 4,
  "vscode": {
   "interpreter": {
    "hash": "4699cf9c421c489f2df8c5a4abaf44e761466dcfd500de2ded9c32b0fa81c014"
   }
  }
 },
 "nbformat": 4,
 "nbformat_minor": 2
}
