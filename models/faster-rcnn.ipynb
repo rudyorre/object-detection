{
 "cells": [
  {
   "cell_type": "code",
   "execution_count": 8,
   "metadata": {},
   "outputs": [
    {
     "name": "stdout",
     "output_type": "stream",
     "text": [
      "2.0.0 False\n",
      "2.28.2\n",
      "not available\n",
      "clang 14.0.0\n"
     ]
    }
   ],
   "source": [
    "# Check Pytorch installation\n",
    "import torch, torchvision\n",
    "print(torch.__version__, torch.cuda.is_available())\n",
    "\n",
    "# Check MMDetection installation\n",
    "import mmdet\n",
    "print(mmdet.__version__)\n",
    "# from mmdet.apis import multi_gpu_test, single_gpu_test\n",
    "\n",
    "# Check mmcv installation\n",
    "from mmcv.ops import get_compiling_cuda_version, get_compiler_version\n",
    "print(get_compiling_cuda_version())\n",
    "print(get_compiler_version())"
   ]
  },
  {
   "attachments": {},
   "cell_type": "markdown",
   "metadata": {},
   "source": [
    "# Faster R-CNN\n",
    "The model weights were taken from https://github.com/open-mmlab/mmdetection/tree/master/configs/faster_rcnn."
   ]
  },
  {
   "cell_type": "code",
   "execution_count": 3,
   "metadata": {},
   "outputs": [
    {
     "name": "stdout",
     "output_type": "stream",
     "text": [
      "  % Total    % Received % Xferd  Average Speed   Time    Time     Time  Current\n",
      "                                 Dload  Upload   Total   Spent    Left  Speed\n",
      "100  159M  100  159M    0     0  2380k      0  0:01:08  0:01:08 --:--:-- 3862k 0:01:07  0:00:22  0:00:45 3550k\n"
     ]
    }
   ],
   "source": [
    "# Weights\n",
    "!curl https://download.openmmlab.com/mmdetection/v2.0/faster_rcnn/faster_rcnn_r50_fpn_1x_coco/faster_rcnn_r50_fpn_1x_coco_20200130-047c8118.pth -o ../mmdetection/weights/faster-rcnn.pth"
   ]
  },
  {
   "cell_type": "code",
   "execution_count": 4,
   "metadata": {},
   "outputs": [
    {
     "name": "stdout",
     "output_type": "stream",
     "text": [
      "/Users/rudyorre/object-detection/venv/lib/python3.10/site-packages/mmcv/__init__.py:20: UserWarning: On January 1, 2023, MMCV will release v2.0.0, in which it will remove components related to the training process and add a data transformation module. In addition, it will rename the package names mmcv to mmcv-lite and mmcv-full to mmcv. See https://github.com/open-mmlab/mmcv/blob/master/docs/en/compatibility.md for more details.\n",
      "  warnings.warn(\n",
      "/Users/rudyorre/object-detection/venv/lib/python3.10/site-packages/mmdet/utils/setup_env.py:38: UserWarning: Setting OMP_NUM_THREADS environment variable for each process to be 1 in default, to avoid your system being overloaded, please further tune the variable for optimal performance in your application as needed.\n",
      "  warnings.warn(\n",
      "/Users/rudyorre/object-detection/venv/lib/python3.10/site-packages/mmdet/utils/setup_env.py:48: UserWarning: Setting MKL_NUM_THREADS environment variable for each process to be 1 in default, to avoid your system being overloaded, please further tune the variable for optimal performance in your application as needed.\n",
      "  warnings.warn(\n",
      "loading annotations into memory...\n",
      "Done (t=0.36s)\n",
      "creating index...\n",
      "index created!\n",
      "load checkpoint from local path: weights/faster-rcnn.pth\n",
      "[>>>>>>>>>>>>>>>>>>>>>>>>>] 5000/5000, 0.2 task/s, elapsed: 33237s, ETA:     0s\n",
      "Evaluating bbox...\n",
      "Loading and preparing results...\n",
      "DONE (t=0.35s)\n",
      "creating index...\n",
      "index created!\n",
      "Running per image evaluation...\n",
      "Evaluate annotation type *bbox*\n",
      "DONE (t=11.27s).\n",
      "Accumulating evaluation results...\n",
      "DONE (t=3.14s).\n",
      "\n",
      " Average Precision  (AP) @[ IoU=0.50:0.95 | area=   all | maxDets=100 ] = 0.374\n",
      " Average Precision  (AP) @[ IoU=0.50      | area=   all | maxDets=1000 ] = 0.581\n",
      " Average Precision  (AP) @[ IoU=0.75      | area=   all | maxDets=1000 ] = 0.404\n",
      " Average Precision  (AP) @[ IoU=0.50:0.95 | area= small | maxDets=1000 ] = 0.212\n",
      " Average Precision  (AP) @[ IoU=0.50:0.95 | area=medium | maxDets=1000 ] = 0.410\n",
      " Average Precision  (AP) @[ IoU=0.50:0.95 | area= large | maxDets=1000 ] = 0.481\n",
      " Average Recall     (AR) @[ IoU=0.50:0.95 | area=   all | maxDets=100 ] = 0.517\n",
      " Average Recall     (AR) @[ IoU=0.50:0.95 | area=   all | maxDets=300 ] = 0.517\n",
      " Average Recall     (AR) @[ IoU=0.50:0.95 | area=   all | maxDets=1000 ] = 0.517\n",
      " Average Recall     (AR) @[ IoU=0.50:0.95 | area= small | maxDets=1000 ] = 0.326\n",
      " Average Recall     (AR) @[ IoU=0.50:0.95 | area=medium | maxDets=1000 ] = 0.557\n",
      " Average Recall     (AR) @[ IoU=0.50:0.95 | area= large | maxDets=1000 ] = 0.648\n",
      "\n",
      "\n",
      "+---------------+-------+--------------+-------+----------------+-------+\n",
      "| category      | AP    | category     | AP    | category       | AP    |\n",
      "+---------------+-------+--------------+-------+----------------+-------+\n",
      "| person        | 0.519 | bicycle      | 0.280 | car            | 0.420 |\n",
      "| motorcycle    | 0.391 | airplane     | 0.595 | bus            | 0.612 |\n",
      "| train         | 0.561 | truck        | 0.337 | boat           | 0.260 |\n",
      "| traffic light | 0.263 | fire hydrant | 0.637 | stop sign      | 0.625 |\n",
      "| parking meter | 0.422 | bench        | 0.207 | bird           | 0.329 |\n",
      "| cat           | 0.589 | dog          | 0.547 | horse          | 0.535 |\n",
      "| sheep         | 0.470 | cow          | 0.504 | elephant       | 0.593 |\n",
      "| bear          | 0.641 | zebra        | 0.624 | giraffe        | 0.628 |\n",
      "| backpack      | 0.145 | umbrella     | 0.337 | handbag        | 0.118 |\n",
      "| tie           | 0.297 | suitcase     | 0.341 | frisbee        | 0.624 |\n",
      "| skis          | 0.204 | snowboard    | 0.308 | sports ball    | 0.424 |\n",
      "| kite          | 0.392 | baseball bat | 0.238 | baseball glove | 0.324 |\n",
      "| skateboard    | 0.462 | surfboard    | 0.332 | tennis racket  | 0.444 |\n",
      "| bottle        | 0.373 | wine glass   | 0.336 | cup            | 0.401 |\n",
      "| fork          | 0.260 | knife        | 0.130 | spoon          | 0.110 |\n",
      "| bowl          | 0.408 | banana       | 0.205 | apple          | 0.186 |\n",
      "| sandwich      | 0.315 | orange       | 0.283 | broccoli       | 0.216 |\n",
      "| carrot        | 0.208 | hot dog      | 0.260 | pizza          | 0.467 |\n",
      "| donut         | 0.413 | cake         | 0.320 | chair          | 0.235 |\n",
      "| couch         | 0.368 | potted plant | 0.245 | bed            | 0.374 |\n",
      "| dining table  | 0.240 | toilet       | 0.533 | tv             | 0.528 |\n",
      "| laptop        | 0.550 | mouse        | 0.593 | remote         | 0.262 |\n",
      "| keyboard      | 0.475 | cell phone   | 0.307 | microwave      | 0.550 |\n",
      "| oven          | 0.296 | toaster      | 0.294 | sink           | 0.327 |\n",
      "| refrigerator  | 0.478 | book         | 0.137 | clock          | 0.493 |\n",
      "| vase          | 0.354 | scissors     | 0.212 | teddy bear     | 0.427 |\n",
      "| hair drier    | 0.002 | toothbrush   | 0.149 | None           | None  |\n",
      "+---------------+-------+--------------+-------+----------------+-------+\n",
      "\n",
      "Evaluating proposal...\n",
      "Loading and preparing results...\n",
      "DONE (t=0.09s)\n",
      "creating index...\n",
      "index created!\n",
      "Running per image evaluation...\n",
      "Evaluate annotation type *bbox*\n",
      "DONE (t=17.11s).\n",
      "Accumulating evaluation results...\n",
      "DONE (t=2.28s).\n",
      "\n",
      " Average Precision  (AP) @[ IoU=0.50:0.95 | area=   all | maxDets=100 ] = 0.422\n",
      " Average Precision  (AP) @[ IoU=0.50      | area=   all | maxDets=1000 ] = 0.679\n",
      " Average Precision  (AP) @[ IoU=0.75      | area=   all | maxDets=1000 ] = 0.451\n",
      " Average Precision  (AP) @[ IoU=0.50:0.95 | area= small | maxDets=1000 ] = 0.275\n",
      " Average Precision  (AP) @[ IoU=0.50:0.95 | area=medium | maxDets=1000 ] = 0.486\n",
      " Average Precision  (AP) @[ IoU=0.50:0.95 | area= large | maxDets=1000 ] = 0.595\n",
      " Average Recall     (AR) @[ IoU=0.50:0.95 | area=   all | maxDets=100 ] = 0.556\n",
      " Average Recall     (AR) @[ IoU=0.50:0.95 | area=   all | maxDets=300 ] = 0.556\n",
      " Average Recall     (AR) @[ IoU=0.50:0.95 | area=   all | maxDets=1000 ] = 0.556\n",
      " Average Recall     (AR) @[ IoU=0.50:0.95 | area= small | maxDets=1000 ] = 0.400\n",
      " Average Recall     (AR) @[ IoU=0.50:0.95 | area=medium | maxDets=1000 ] = 0.620\n",
      " Average Recall     (AR) @[ IoU=0.50:0.95 | area= large | maxDets=1000 ] = 0.740\n",
      "\n",
      "OrderedDict([('bbox_mAP', 0.3737), ('bbox_mAP_50', 0.5813), ('bbox_mAP_75', 0.4045), ('bbox_mAP_s', 0.212), ('bbox_mAP_m', 0.4096), ('bbox_mAP_l', 0.4813), ('bbox_mAP_copypaste', '0.3737 0.5813 0.4045 0.2120 0.4096 0.4813'), ('mAP', 0.4219), ('mAP_50', 0.679), ('mAP_75', 0.4512), ('mAP_s', 0.2755), ('mAP_m', 0.4857), ('mAP_l', 0.595)])\n"
     ]
    }
   ],
   "source": [
    "!cd ../mmdetection && python3 tools/test.py configs/faster_rcnn/faster_rcnn_r50_fpn_1x_coco.py weights/faster-rcnn.pth --eval bbox proposal --eval-options \"classwise=True\""
   ]
  },
  {
   "attachments": {},
   "cell_type": "markdown",
   "metadata": {},
   "source": [
    "## Citation\n",
    "```\n",
    "@article{Ren_2017,\n",
    "   title={Faster R-CNN: Towards Real-Time Object Detection with Region Proposal Networks},\n",
    "   journal={IEEE Transactions on Pattern Analysis and Machine Intelligence},\n",
    "   publisher={Institute of Electrical and Electronics Engineers (IEEE)},\n",
    "   author={Ren, Shaoqing and He, Kaiming and Girshick, Ross and Sun, Jian},\n",
    "   year={2017},\n",
    "   month={Jun},\n",
    "}\n",
    "```"
   ]
  },
  {
   "cell_type": "markdown",
   "metadata": {},
   "source": []
  }
 ],
 "metadata": {
  "kernelspec": {
   "display_name": "venv",
   "language": "python",
   "name": "python3"
  },
  "language_info": {
   "codemirror_mode": {
    "name": "ipython",
    "version": 3
   },
   "file_extension": ".py",
   "mimetype": "text/x-python",
   "name": "python",
   "nbconvert_exporter": "python",
   "pygments_lexer": "ipython3",
   "version": "3.10.6 (main, Aug 30 2022, 04:58:14) [Clang 13.1.6 (clang-1316.0.21.2.5)]"
  },
  "orig_nbformat": 4,
  "vscode": {
   "interpreter": {
    "hash": "4699cf9c421c489f2df8c5a4abaf44e761466dcfd500de2ded9c32b0fa81c014"
   }
  }
 },
 "nbformat": 4,
 "nbformat_minor": 2
}
