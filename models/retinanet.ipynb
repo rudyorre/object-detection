{
 "cells": [
  {
   "cell_type": "code",
   "execution_count": 8,
   "metadata": {},
   "outputs": [
    {
     "name": "stdout",
     "output_type": "stream",
     "text": [
      "2.0.0 False\n",
      "2.28.2\n",
      "not available\n",
      "clang 14.0.0\n"
     ]
    }
   ],
   "source": [
    "# Check Pytorch installation\n",
    "import torch, torchvision\n",
    "print(torch.__version__, torch.cuda.is_available())\n",
    "\n",
    "# Check MMDetection installation\n",
    "import mmdet\n",
    "print(mmdet.__version__)\n",
    "# from mmdet.apis import multi_gpu_test, single_gpu_test\n",
    "\n",
    "# Check mmcv installation\n",
    "from mmcv.ops import get_compiling_cuda_version, get_compiler_version\n",
    "print(get_compiling_cuda_version())\n",
    "print(get_compiler_version())"
   ]
  },
  {
   "attachments": {},
   "cell_type": "markdown",
   "metadata": {},
   "source": [
    "# RetinaNet\n",
    "The model weights were taken from https://github.com/open-mmlab/mmdetection/tree/master/configs/retinanet."
   ]
  },
  {
   "cell_type": "code",
   "execution_count": 1,
   "metadata": {},
   "outputs": [
    {
     "name": "stdout",
     "output_type": "stream",
     "text": [
      "  % Total    % Received % Xferd  Average Speed   Time    Time     Time  Current\n",
      "                                 Dload  Upload   Total   Spent    Left  Speed\n",
      "100 81.7M  100 81.7M    0     0   776k      0  0:01:47  0:01:47 --:--:-- 1039k 0   760k      0  0:01:50  0:01:35  0:00:15  774k71k      0  0:01:48  0:01:46  0:00:02 1051k\n"
     ]
    }
   ],
   "source": [
    "# Weights\n",
    "!curl https://download.openmmlab.com/mmdetection/v2.0/retinanet/retinanet_r18_fpn_1x_coco/retinanet_r18_fpn_1x_coco_20220407_171055-614fd399.pth -o ../mmdetection/weights/retinanet.pth"
   ]
  },
  {
   "cell_type": "code",
   "execution_count": 2,
   "metadata": {},
   "outputs": [
    {
     "name": "stdout",
     "output_type": "stream",
     "text": [
      "/Users/rudyorre/object-detection/venv/lib/python3.10/site-packages/mmcv/__init__.py:20: UserWarning: On January 1, 2023, MMCV will release v2.0.0, in which it will remove components related to the training process and add a data transformation module. In addition, it will rename the package names mmcv to mmcv-lite and mmcv-full to mmcv. See https://github.com/open-mmlab/mmcv/blob/master/docs/en/compatibility.md for more details.\n",
      "  warnings.warn(\n",
      "/Users/rudyorre/object-detection/venv/lib/python3.10/site-packages/mmdet/utils/setup_env.py:38: UserWarning: Setting OMP_NUM_THREADS environment variable for each process to be 1 in default, to avoid your system being overloaded, please further tune the variable for optimal performance in your application as needed.\n",
      "  warnings.warn(\n",
      "/Users/rudyorre/object-detection/venv/lib/python3.10/site-packages/mmdet/utils/setup_env.py:48: UserWarning: Setting MKL_NUM_THREADS environment variable for each process to be 1 in default, to avoid your system being overloaded, please further tune the variable for optimal performance in your application as needed.\n",
      "  warnings.warn(\n",
      "loading annotations into memory...\n",
      "Done (t=0.27s)\n",
      "creating index...\n",
      "index created!\n",
      "load checkpoint from local path: weights/retinanet.pth\n",
      "[>>>>>>>>>>>>>>>>>>>>>>>>>>] 5000/5000, 1.0 task/s, elapsed: 5243s, ETA:     0s\n",
      "Evaluating bbox...\n",
      "Loading and preparing results...\n",
      "DONE (t=0.75s)\n",
      "creating index...\n",
      "index created!\n",
      "Running per image evaluation...\n",
      "Evaluate annotation type *bbox*\n",
      "DONE (t=16.04s).\n",
      "Accumulating evaluation results...\n",
      "DONE (t=6.73s).\n",
      "\n",
      " Average Precision  (AP) @[ IoU=0.50:0.95 | area=   all | maxDets=100 ] = 0.317\n",
      " Average Precision  (AP) @[ IoU=0.50      | area=   all | maxDets=1000 ] = 0.496\n",
      " Average Precision  (AP) @[ IoU=0.75      | area=   all | maxDets=1000 ] = 0.334\n",
      " Average Precision  (AP) @[ IoU=0.50:0.95 | area= small | maxDets=1000 ] = 0.162\n",
      " Average Precision  (AP) @[ IoU=0.50:0.95 | area=medium | maxDets=1000 ] = 0.342\n",
      " Average Precision  (AP) @[ IoU=0.50:0.95 | area= large | maxDets=1000 ] = 0.430\n",
      " Average Recall     (AR) @[ IoU=0.50:0.95 | area=   all | maxDets=100 ] = 0.502\n",
      " Average Recall     (AR) @[ IoU=0.50:0.95 | area=   all | maxDets=300 ] = 0.502\n",
      " Average Recall     (AR) @[ IoU=0.50:0.95 | area=   all | maxDets=1000 ] = 0.502\n",
      " Average Recall     (AR) @[ IoU=0.50:0.95 | area= small | maxDets=1000 ] = 0.307\n",
      " Average Recall     (AR) @[ IoU=0.50:0.95 | area=medium | maxDets=1000 ] = 0.533\n",
      " Average Recall     (AR) @[ IoU=0.50:0.95 | area= large | maxDets=1000 ] = 0.661\n",
      "\n",
      "\n",
      "+---------------+-------+--------------+-------+----------------+-------+\n",
      "| category      | AP    | category     | AP    | category       | AP    |\n",
      "+---------------+-------+--------------+-------+----------------+-------+\n",
      "| person        | 0.472 | bicycle      | 0.232 | car            | 0.356 |\n",
      "| motorcycle    | 0.340 | airplane     | 0.567 | bus            | 0.579 |\n",
      "| train         | 0.542 | truck        | 0.279 | boat           | 0.185 |\n",
      "| traffic light | 0.209 | fire hydrant | 0.596 | stop sign      | 0.582 |\n",
      "| parking meter | 0.364 | bench        | 0.174 | bird           | 0.287 |\n",
      "| cat           | 0.555 | dog          | 0.552 | horse          | 0.450 |\n",
      "| sheep         | 0.421 | cow          | 0.438 | elephant       | 0.537 |\n",
      "| bear          | 0.665 | zebra        | 0.606 | giraffe        | 0.599 |\n",
      "| backpack      | 0.103 | umbrella     | 0.277 | handbag        | 0.078 |\n",
      "| tie           | 0.227 | suitcase     | 0.240 | frisbee        | 0.544 |\n",
      "| skis          | 0.159 | snowboard    | 0.125 | sports ball    | 0.386 |\n",
      "| kite          | 0.323 | baseball bat | 0.157 | baseball glove | 0.272 |\n",
      "| skateboard    | 0.389 | surfboard    | 0.242 | tennis racket  | 0.393 |\n",
      "| bottle        | 0.299 | wine glass   | 0.258 | cup            | 0.334 |\n",
      "| fork          | 0.126 | knife        | 0.054 | spoon          | 0.054 |\n",
      "| bowl          | 0.318 | banana       | 0.189 | apple          | 0.144 |\n",
      "| sandwich      | 0.232 | orange       | 0.243 | broccoli       | 0.176 |\n",
      "| carrot        | 0.145 | hot dog      | 0.200 | pizza          | 0.439 |\n",
      "| donut         | 0.325 | cake         | 0.241 | chair          | 0.188 |\n",
      "| couch         | 0.309 | potted plant | 0.183 | bed            | 0.357 |\n",
      "| dining table  | 0.222 | toilet       | 0.522 | tv             | 0.471 |\n",
      "| laptop        | 0.474 | mouse        | 0.533 | remote         | 0.169 |\n",
      "| keyboard      | 0.374 | cell phone   | 0.264 | microwave      | 0.438 |\n",
      "| oven          | 0.284 | toaster      | 0.183 | sink           | 0.271 |\n",
      "| refrigerator  | 0.403 | book         | 0.100 | clock          | 0.446 |\n",
      "| vase          | 0.277 | scissors     | 0.161 | teddy bear     | 0.389 |\n",
      "| hair drier    | 0.010 | toothbrush   | 0.073 | None           | None  |\n",
      "+---------------+-------+--------------+-------+----------------+-------+\n",
      "\n",
      "Evaluating proposal...\n",
      "Loading and preparing results...\n",
      "DONE (t=0.86s)\n",
      "creating index...\n",
      "index created!\n",
      "Running per image evaluation...\n",
      "Evaluate annotation type *bbox*\n",
      "DONE (t=26.36s).\n",
      "Accumulating evaluation results...\n",
      "DONE (t=5.83s).\n",
      "\n",
      " Average Precision  (AP) @[ IoU=0.50:0.95 | area=   all | maxDets=100 ] = 0.371\n",
      " Average Precision  (AP) @[ IoU=0.50      | area=   all | maxDets=1000 ] = 0.609\n",
      " Average Precision  (AP) @[ IoU=0.75      | area=   all | maxDets=1000 ] = 0.385\n",
      " Average Precision  (AP) @[ IoU=0.50:0.95 | area= small | maxDets=1000 ] = 0.225\n",
      " Average Precision  (AP) @[ IoU=0.50:0.95 | area=medium | maxDets=1000 ] = 0.426\n",
      " Average Precision  (AP) @[ IoU=0.50:0.95 | area= large | maxDets=1000 ] = 0.570\n",
      " Average Recall     (AR) @[ IoU=0.50:0.95 | area=   all | maxDets=100 ] = 0.546\n",
      " Average Recall     (AR) @[ IoU=0.50:0.95 | area=   all | maxDets=300 ] = 0.546\n",
      " Average Recall     (AR) @[ IoU=0.50:0.95 | area=   all | maxDets=1000 ] = 0.546\n",
      " Average Recall     (AR) @[ IoU=0.50:0.95 | area= small | maxDets=1000 ] = 0.371\n",
      " Average Recall     (AR) @[ IoU=0.50:0.95 | area=medium | maxDets=1000 ] = 0.605\n",
      " Average Recall     (AR) @[ IoU=0.50:0.95 | area= large | maxDets=1000 ] = 0.771\n",
      "\n",
      "OrderedDict([('bbox_mAP', 0.3173), ('bbox_mAP_50', 0.4958), ('bbox_mAP_75', 0.3344), ('bbox_mAP_s', 0.1617), ('bbox_mAP_m', 0.3423), ('bbox_mAP_l', 0.4303), ('bbox_mAP_copypaste', '0.3173 0.4958 0.3344 0.1617 0.3423 0.4303'), ('mAP', 0.3714), ('mAP_50', 0.6093), ('mAP_75', 0.3849), ('mAP_s', 0.2248), ('mAP_m', 0.4258), ('mAP_l', 0.5698)])\n"
     ]
    }
   ],
   "source": [
    "!cd ../mmdetection && python3 tools/test.py configs/retinanet/retinanet_r18_fpn_1x_coco.py weights/retinanet.pth --eval bbox proposal --eval-options \"classwise=True\""
   ]
  },
  {
   "attachments": {},
   "cell_type": "markdown",
   "metadata": {},
   "source": [
    "## Citation\n",
    "```\n",
    "@inproceedings{lin2017focal,\n",
    "  title={Focal loss for dense object detection},\n",
    "  author={Lin, Tsung-Yi and Goyal, Priya and Girshick, Ross and He, Kaiming and Doll{\\'a}r, Piotr},\n",
    "  booktitle={Proceedings of the IEEE international conference on computer vision},\n",
    "  year={2017}\n",
    "}\n",
    "```"
   ]
  },
  {
   "cell_type": "markdown",
   "metadata": {},
   "source": []
  }
 ],
 "metadata": {
  "kernelspec": {
   "display_name": "venv",
   "language": "python",
   "name": "python3"
  },
  "language_info": {
   "codemirror_mode": {
    "name": "ipython",
    "version": 3
   },
   "file_extension": ".py",
   "mimetype": "text/x-python",
   "name": "python",
   "nbconvert_exporter": "python",
   "pygments_lexer": "ipython3",
   "version": "3.10.6"
  },
  "orig_nbformat": 4,
  "vscode": {
   "interpreter": {
    "hash": "4699cf9c421c489f2df8c5a4abaf44e761466dcfd500de2ded9c32b0fa81c014"
   }
  }
 },
 "nbformat": 4,
 "nbformat_minor": 2
}
