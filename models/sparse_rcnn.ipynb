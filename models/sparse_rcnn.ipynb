{
 "cells": [
  {
   "cell_type": "code",
   "execution_count": 8,
   "metadata": {},
   "outputs": [
    {
     "name": "stdout",
     "output_type": "stream",
     "text": [
      "2.0.0 False\n",
      "2.28.2\n",
      "not available\n",
      "clang 14.0.0\n"
     ]
    }
   ],
   "source": [
    "# Check Pytorch installation\n",
    "import torch, torchvision\n",
    "print(torch.__version__, torch.cuda.is_available())\n",
    "\n",
    "# Check MMDetection installation\n",
    "import mmdet\n",
    "print(mmdet.__version__)\n",
    "# from mmdet.apis import multi_gpu_test, single_gpu_test\n",
    "\n",
    "# Check mmcv installation\n",
    "from mmcv.ops import get_compiling_cuda_version, get_compiler_version\n",
    "print(get_compiling_cuda_version())\n",
    "print(get_compiler_version())"
   ]
  },
  {
   "attachments": {},
   "cell_type": "markdown",
   "metadata": {},
   "source": [
    "# Sparse R-CNN\n",
    "The model weights were taken from https://github.com/open-mmlab/mmdetection/tree/master/configs/sparse_rcnn."
   ]
  },
  {
   "cell_type": "code",
   "execution_count": 1,
   "metadata": {},
   "outputs": [
    {
     "name": "stdout",
     "output_type": "stream",
     "text": [
      "  % Total    % Received % Xferd  Average Speed   Time    Time     Time  Current\n",
      "                                 Dload  Upload   Total   Spent    Left  Speed\n",
      " 10  478M   10 49.4M    0     0   924k      0  0:08:49  0:00:54  0:07:55  749k  957k"
     ]
    }
   ],
   "source": [
    "# Weights\n",
    "!curl https://download.openmmlab.com/mmdetection/v2.0/sparse_rcnn/sparse_rcnn_r101_fpn_300_proposals_crop_mstrain_480-800_3x_coco/sparse_rcnn_r101_fpn_300_proposals_crop_mstrain_480-800_3x_coco_20201223_023452-c23c3564.pth -o ../mmdetection/weights/sparse-rcnn.pth"
   ]
  },
  {
   "cell_type": "code",
   "execution_count": 13,
   "metadata": {},
   "outputs": [
    {
     "name": "stdout",
     "output_type": "stream",
     "text": [
      "/Users/rudyorre/object-detection/venv/lib/python3.10/site-packages/mmcv/__init__.py:20: UserWarning: On January 1, 2023, MMCV will release v2.0.0, in which it will remove components related to the training process and add a data transformation module. In addition, it will rename the package names mmcv to mmcv-lite and mmcv-full to mmcv. See https://github.com/open-mmlab/mmcv/blob/master/docs/en/compatibility.md for more details.\n",
      "  warnings.warn(\n",
      "/Users/rudyorre/object-detection/venv/lib/python3.10/site-packages/mmdet/utils/setup_env.py:38: UserWarning: Setting OMP_NUM_THREADS environment variable for each process to be 1 in default, to avoid your system being overloaded, please further tune the variable for optimal performance in your application as needed.\n",
      "  warnings.warn(\n",
      "/Users/rudyorre/object-detection/venv/lib/python3.10/site-packages/mmdet/utils/setup_env.py:48: UserWarning: Setting MKL_NUM_THREADS environment variable for each process to be 1 in default, to avoid your system being overloaded, please further tune the variable for optimal performance in your application as needed.\n",
      "  warnings.warn(\n",
      "loading annotations into memory...\n",
      "Done (t=0.29s)\n",
      "creating index...\n",
      "index created!\n",
      "load checkpoint from local path: weights/yolov3.pth\n",
      "[>>>>>>>>>>>>>>>>>>>>>>>>>>] 5000/5000, 10.1 task/s, elapsed: 496s, ETA:     0s\n",
      "Evaluating bbox...\n",
      "Loading and preparing results...\n",
      "DONE (t=0.36s)\n",
      "creating index...\n",
      "index created!\n",
      "Running per image evaluation...\n",
      "Evaluate annotation type *bbox*\n",
      "DONE (t=11.96s).\n",
      "Accumulating evaluation results...\n",
      "DONE (t=3.49s).\n",
      "\n",
      " Average Precision  (AP) @[ IoU=0.50:0.95 | area=   all | maxDets=100 ] = 0.279\n",
      " Average Precision  (AP) @[ IoU=0.50      | area=   all | maxDets=1000 ] = 0.491\n",
      " Average Precision  (AP) @[ IoU=0.75      | area=   all | maxDets=1000 ] = 0.283\n",
      " Average Precision  (AP) @[ IoU=0.50:0.95 | area= small | maxDets=1000 ] = 0.105\n",
      " Average Precision  (AP) @[ IoU=0.50:0.95 | area=medium | maxDets=1000 ] = 0.301\n",
      " Average Precision  (AP) @[ IoU=0.50:0.95 | area= large | maxDets=1000 ] = 0.438\n",
      " Average Recall     (AR) @[ IoU=0.50:0.95 | area=   all | maxDets=100 ] = 0.395\n",
      " Average Recall     (AR) @[ IoU=0.50:0.95 | area=   all | maxDets=300 ] = 0.395\n",
      " Average Recall     (AR) @[ IoU=0.50:0.95 | area=   all | maxDets=1000 ] = 0.395\n",
      " Average Recall     (AR) @[ IoU=0.50:0.95 | area= small | maxDets=1000 ] = 0.185\n",
      " Average Recall     (AR) @[ IoU=0.50:0.95 | area=medium | maxDets=1000 ] = 0.423\n",
      " Average Recall     (AR) @[ IoU=0.50:0.95 | area= large | maxDets=1000 ] = 0.574\n",
      "\n",
      "\n",
      "+---------------+-------+--------------+-------+----------------+-------+\n",
      "| category      | AP    | category     | AP    | category       | AP    |\n",
      "+---------------+-------+--------------+-------+----------------+-------+\n",
      "| person        | 0.384 | bicycle      | 0.194 | car            | 0.236 |\n",
      "| motorcycle    | 0.317 | airplane     | 0.495 | bus            | 0.520 |\n",
      "| train         | 0.534 | truck        | 0.217 | boat           | 0.125 |\n",
      "| traffic light | 0.134 | fire hydrant | 0.502 | stop sign      | 0.517 |\n",
      "| parking meter | 0.345 | bench        | 0.143 | bird           | 0.230 |\n",
      "| cat           | 0.531 | dog          | 0.498 | horse          | 0.418 |\n",
      "| sheep         | 0.333 | cow          | 0.340 | elephant       | 0.492 |\n",
      "| bear          | 0.593 | zebra        | 0.535 | giraffe        | 0.550 |\n",
      "| backpack      | 0.078 | umbrella     | 0.267 | handbag        | 0.073 |\n",
      "| tie           | 0.173 | suitcase     | 0.223 | frisbee        | 0.469 |\n",
      "| skis          | 0.122 | snowboard    | 0.139 | sports ball    | 0.283 |\n",
      "| kite          | 0.290 | baseball bat | 0.157 | baseball glove | 0.235 |\n",
      "| skateboard    | 0.364 | surfboard    | 0.217 | tennis racket  | 0.296 |\n",
      "| bottle        | 0.188 | wine glass   | 0.190 | cup            | 0.241 |\n",
      "| fork          | 0.161 | knife        | 0.063 | spoon          | 0.071 |\n",
      "| bowl          | 0.266 | banana       | 0.155 | apple          | 0.124 |\n",
      "| sandwich      | 0.237 | orange       | 0.186 | broccoli       | 0.154 |\n",
      "| carrot        | 0.125 | hot dog      | 0.224 | pizza          | 0.346 |\n",
      "| donut         | 0.334 | cake         | 0.242 | chair          | 0.171 |\n",
      "| couch         | 0.323 | potted plant | 0.165 | bed            | 0.377 |\n",
      "| dining table  | 0.205 | toilet       | 0.511 | tv             | 0.422 |\n",
      "| laptop        | 0.438 | mouse        | 0.448 | remote         | 0.108 |\n",
      "| keyboard      | 0.343 | cell phone   | 0.198 | microwave      | 0.407 |\n",
      "| oven          | 0.255 | toaster      | 0.089 | sink           | 0.251 |\n",
      "| refrigerator  | 0.445 | book         | 0.055 | clock          | 0.360 |\n",
      "| vase          | 0.241 | scissors     | 0.205 | teddy bear     | 0.322 |\n",
      "| hair drier    | 0.030 | toothbrush   | 0.090 | None           | None  |\n",
      "+---------------+-------+--------------+-------+----------------+-------+\n",
      "\n",
      "Evaluating proposal...\n",
      "Loading and preparing results...\n",
      "DONE (t=0.12s)\n",
      "creating index...\n",
      "index created!\n",
      "Running per image evaluation...\n",
      "Evaluate annotation type *bbox*\n",
      "DONE (t=20.00s).\n",
      "Accumulating evaluation results...\n",
      "DONE (t=2.64s).\n",
      "\n",
      " Average Precision  (AP) @[ IoU=0.50:0.95 | area=   all | maxDets=100 ] = 0.304\n",
      " Average Precision  (AP) @[ IoU=0.50      | area=   all | maxDets=1000 ] = 0.564\n",
      " Average Precision  (AP) @[ IoU=0.75      | area=   all | maxDets=1000 ] = 0.296\n",
      " Average Precision  (AP) @[ IoU=0.50:0.95 | area= small | maxDets=1000 ] = 0.111\n",
      " Average Precision  (AP) @[ IoU=0.50:0.95 | area=medium | maxDets=1000 ] = 0.364\n",
      " Average Precision  (AP) @[ IoU=0.50:0.95 | area= large | maxDets=1000 ] = 0.540\n",
      " Average Recall     (AR) @[ IoU=0.50:0.95 | area=   all | maxDets=100 ] = 0.415\n",
      " Average Recall     (AR) @[ IoU=0.50:0.95 | area=   all | maxDets=300 ] = 0.415\n",
      " Average Recall     (AR) @[ IoU=0.50:0.95 | area=   all | maxDets=1000 ] = 0.415\n",
      " Average Recall     (AR) @[ IoU=0.50:0.95 | area= small | maxDets=1000 ] = 0.214\n",
      " Average Recall     (AR) @[ IoU=0.50:0.95 | area=medium | maxDets=1000 ] = 0.487\n",
      " Average Recall     (AR) @[ IoU=0.50:0.95 | area= large | maxDets=1000 ] = 0.666\n",
      "\n",
      "OrderedDict([('bbox_mAP', 0.2791), ('bbox_mAP_50', 0.491), ('bbox_mAP_75', 0.2826), ('bbox_mAP_s', 0.105), ('bbox_mAP_m', 0.3008), ('bbox_mAP_l', 0.4382), ('bbox_mAP_copypaste', '0.2791 0.4910 0.2826 0.1050 0.3008 0.4382'), ('mAP', 0.3037), ('mAP_50', 0.5641), ('mAP_75', 0.2959), ('mAP_s', 0.111), ('mAP_m', 0.3644), ('mAP_l', 0.5397)])\n"
     ]
    }
   ],
   "source": [
    "!cd ../mmdetection && python3 tools/test.py configs/yolo/yolov3_d53_320_273e_coco.py weights/yolov3.pth --eval bbox proposal --eval-options \"classwise=True\""
   ]
  },
  {
   "attachments": {},
   "cell_type": "markdown",
   "metadata": {},
   "source": [
    "## Citation\n",
    "```\n",
    "@misc{redmon2018yolov3,\n",
    "    title={YOLOv3: An Incremental Improvement},\n",
    "    author={Joseph Redmon and Ali Farhadi},\n",
    "    year={2018},\n",
    "    eprint={1804.02767},\n",
    "    archivePrefix={arXiv},\n",
    "    primaryClass={cs.CV}\n",
    "}\n",
    "```"
   ]
  },
  {
   "cell_type": "markdown",
   "metadata": {},
   "source": []
  }
 ],
 "metadata": {
  "kernelspec": {
   "display_name": "venv",
   "language": "python",
   "name": "python3"
  },
  "language_info": {
   "codemirror_mode": {
    "name": "ipython",
    "version": 3
   },
   "file_extension": ".py",
   "mimetype": "text/x-python",
   "name": "python",
   "nbconvert_exporter": "python",
   "pygments_lexer": "ipython3",
   "version": "3.10.6 (main, Aug 30 2022, 04:58:14) [Clang 13.1.6 (clang-1316.0.21.2.5)]"
  },
  "orig_nbformat": 4,
  "vscode": {
   "interpreter": {
    "hash": "4699cf9c421c489f2df8c5a4abaf44e761466dcfd500de2ded9c32b0fa81c014"
   }
  }
 },
 "nbformat": 4,
 "nbformat_minor": 2
}
