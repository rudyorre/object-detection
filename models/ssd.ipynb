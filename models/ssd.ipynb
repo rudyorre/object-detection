{
 "cells": [
  {
   "cell_type": "code",
   "execution_count": 1,
   "metadata": {},
   "outputs": [
    {
     "name": "stdout",
     "output_type": "stream",
     "text": [
      "2.0.0 False\n",
      "2.28.2\n",
      "not available\n",
      "clang 14.0.0\n"
     ]
    },
    {
     "name": "stderr",
     "output_type": "stream",
     "text": [
      "/Users/rudyorre/object-detection/venv/lib/python3.10/site-packages/mmcv/__init__.py:20: UserWarning: On January 1, 2023, MMCV will release v2.0.0, in which it will remove components related to the training process and add a data transformation module. In addition, it will rename the package names mmcv to mmcv-lite and mmcv-full to mmcv. See https://github.com/open-mmlab/mmcv/blob/master/docs/en/compatibility.md for more details.\n",
      "  warnings.warn(\n"
     ]
    }
   ],
   "source": [
    "# Check Pytorch installation\n",
    "import torch, torchvision\n",
    "print(torch.__version__, torch.cuda.is_available())\n",
    "\n",
    "# Check MMDetection installation\n",
    "import mmdet\n",
    "print(mmdet.__version__)\n",
    "# from mmdet.apis import multi_gpu_test, single_gpu_test\n",
    "\n",
    "# Check mmcv installation\n",
    "from mmcv.ops import get_compiling_cuda_version, get_compiler_version\n",
    "print(get_compiling_cuda_version())\n",
    "print(get_compiler_version())"
   ]
  },
  {
   "attachments": {},
   "cell_type": "markdown",
   "metadata": {},
   "source": [
    "# SSD (VGG16)\n",
    "The model weights were taken from https://github.com/open-mmlab/mmdetection/tree/master/configs/ssd."
   ]
  },
  {
   "cell_type": "code",
   "execution_count": 2,
   "metadata": {},
   "outputs": [
    {
     "name": "stdout",
     "output_type": "stream",
     "text": [
      "  % Total    % Received % Xferd  Average Speed   Time    Time     Time  Current\n",
      "                                 Dload  Upload   Total   Spent    Left  Speed\n",
      "100  130M  100  130M    0     0   792k      0  0:02:49  0:02:49 --:--:--  680k04:04  0:00:02  0:04:02  548k  0:00:09  0:02:26  871k0:51  0:01:52  749k  0:01:10  0:01:33  995k\n"
     ]
    }
   ],
   "source": [
    "# Weights\n",
    "!curl https://download.openmmlab.com/mmdetection/v2.0/ssd/ssd300_coco/ssd300_coco_20210803_015428-d231a06e.pth -o ../mmdetection/weights/ssd.pth"
   ]
  },
  {
   "cell_type": "code",
   "execution_count": 3,
   "metadata": {},
   "outputs": [
    {
     "name": "stdout",
     "output_type": "stream",
     "text": [
      "/Users/rudyorre/object-detection/venv/lib/python3.10/site-packages/mmcv/__init__.py:20: UserWarning: On January 1, 2023, MMCV will release v2.0.0, in which it will remove components related to the training process and add a data transformation module. In addition, it will rename the package names mmcv to mmcv-lite and mmcv-full to mmcv. See https://github.com/open-mmlab/mmcv/blob/master/docs/en/compatibility.md for more details.\n",
      "  warnings.warn(\n",
      "/Users/rudyorre/object-detection/venv/lib/python3.10/site-packages/mmdet/utils/setup_env.py:38: UserWarning: Setting OMP_NUM_THREADS environment variable for each process to be 1 in default, to avoid your system being overloaded, please further tune the variable for optimal performance in your application as needed.\n",
      "  warnings.warn(\n",
      "/Users/rudyorre/object-detection/venv/lib/python3.10/site-packages/mmdet/utils/setup_env.py:48: UserWarning: Setting MKL_NUM_THREADS environment variable for each process to be 1 in default, to avoid your system being overloaded, please further tune the variable for optimal performance in your application as needed.\n",
      "  warnings.warn(\n",
      "loading annotations into memory...\n",
      "Done (t=0.24s)\n",
      "creating index...\n",
      "index created!\n",
      "load checkpoint from local path: weights/ssd.pth\n",
      "[>>>>>>>>>>>>>>>>>>>>>>>>>>] 5000/5000, 4.2 task/s, elapsed: 1194s, ETA:     0s\n",
      "Evaluating bbox...\n",
      "Loading and preparing results...\n",
      "DONE (t=1.46s)\n",
      "creating index...\n",
      "index created!\n",
      "Running per image evaluation...\n",
      "Evaluate annotation type *bbox*\n",
      "DONE (t=29.10s).\n",
      "Accumulating evaluation results...\n",
      "DONE (t=12.66s).\n",
      "\n",
      " Average Precision  (AP) @[ IoU=0.50:0.95 | area=   all | maxDets=100 ] = 0.255\n",
      " Average Precision  (AP) @[ IoU=0.50      | area=   all | maxDets=1000 ] = 0.436\n",
      " Average Precision  (AP) @[ IoU=0.75      | area=   all | maxDets=1000 ] = 0.262\n",
      " Average Precision  (AP) @[ IoU=0.50:0.95 | area= small | maxDets=1000 ] = 0.069\n",
      " Average Precision  (AP) @[ IoU=0.50:0.95 | area=medium | maxDets=1000 ] = 0.275\n",
      " Average Precision  (AP) @[ IoU=0.50:0.95 | area= large | maxDets=1000 ] = 0.423\n",
      " Average Recall     (AR) @[ IoU=0.50:0.95 | area=   all | maxDets=100 ] = 0.373\n",
      " Average Recall     (AR) @[ IoU=0.50:0.95 | area=   all | maxDets=300 ] = 0.375\n",
      " Average Recall     (AR) @[ IoU=0.50:0.95 | area=   all | maxDets=1000 ] = 0.375\n",
      " Average Recall     (AR) @[ IoU=0.50:0.95 | area= small | maxDets=1000 ] = 0.124\n",
      " Average Recall     (AR) @[ IoU=0.50:0.95 | area=medium | maxDets=1000 ] = 0.414\n",
      " Average Recall     (AR) @[ IoU=0.50:0.95 | area= large | maxDets=1000 ] = 0.586\n",
      "\n",
      "\n",
      "+---------------+-------+--------------+-------+----------------+-------+\n",
      "| category      | AP    | category     | AP    | category       | AP    |\n",
      "+---------------+-------+--------------+-------+----------------+-------+\n",
      "| person        | 0.351 | bicycle      | 0.176 | car            | 0.228 |\n",
      "| motorcycle    | 0.304 | airplane     | 0.489 | bus            | 0.522 |\n",
      "| train         | 0.551 | truck        | 0.253 | boat           | 0.131 |\n",
      "| traffic light | 0.090 | fire hydrant | 0.458 | stop sign      | 0.484 |\n",
      "| parking meter | 0.328 | bench        | 0.138 | bird           | 0.191 |\n",
      "| cat           | 0.530 | dog          | 0.484 | horse          | 0.401 |\n",
      "| sheep         | 0.305 | cow          | 0.331 | elephant       | 0.465 |\n",
      "| bear          | 0.573 | zebra        | 0.501 | giraffe        | 0.514 |\n",
      "| backpack      | 0.047 | umbrella     | 0.235 | handbag        | 0.035 |\n",
      "| tie           | 0.152 | suitcase     | 0.166 | frisbee        | 0.350 |\n",
      "| skis          | 0.099 | snowboard    | 0.155 | sports ball    | 0.240 |\n",
      "| kite          | 0.220 | baseball bat | 0.116 | baseball glove | 0.153 |\n",
      "| skateboard    | 0.277 | surfboard    | 0.192 | tennis racket  | 0.274 |\n",
      "| bottle        | 0.140 | wine glass   | 0.143 | cup            | 0.207 |\n",
      "| fork          | 0.105 | knife        | 0.042 | spoon          | 0.035 |\n",
      "| bowl          | 0.269 | banana       | 0.137 | apple          | 0.098 |\n",
      "| sandwich      | 0.278 | orange       | 0.202 | broccoli       | 0.142 |\n",
      "| carrot        | 0.093 | hot dog      | 0.205 | pizza          | 0.396 |\n",
      "| donut         | 0.268 | cake         | 0.218 | chair          | 0.141 |\n",
      "| couch         | 0.346 | potted plant | 0.141 | bed            | 0.388 |\n",
      "| dining table  | 0.227 | toilet       | 0.481 | tv             | 0.438 |\n",
      "| laptop        | 0.430 | mouse        | 0.362 | remote         | 0.078 |\n",
      "| keyboard      | 0.332 | cell phone   | 0.188 | microwave      | 0.359 |\n",
      "| oven          | 0.280 | toaster      | 0.021 | sink           | 0.231 |\n",
      "| refrigerator  | 0.366 | book         | 0.054 | clock          | 0.336 |\n",
      "| vase          | 0.179 | scissors     | 0.196 | teddy bear     | 0.291 |\n",
      "| hair drier    | 0.000 | toothbrush   | 0.055 | None           | None  |\n",
      "+---------------+-------+--------------+-------+----------------+-------+\n",
      "\n",
      "Evaluating proposal...\n",
      "Loading and preparing results...\n",
      "DONE (t=1.69s)\n",
      "creating index...\n",
      "index created!\n",
      "Running per image evaluation...\n",
      "Evaluate annotation type *bbox*\n",
      "DONE (t=56.52s).\n",
      "Accumulating evaluation results...\n",
      "DONE (t=10.76s).\n",
      "\n",
      " Average Precision  (AP) @[ IoU=0.50:0.95 | area=   all | maxDets=100 ] = 0.276\n",
      " Average Precision  (AP) @[ IoU=0.50      | area=   all | maxDets=1000 ] = 0.512\n",
      " Average Precision  (AP) @[ IoU=0.75      | area=   all | maxDets=1000 ] = 0.268\n",
      " Average Precision  (AP) @[ IoU=0.50:0.95 | area= small | maxDets=1000 ] = 0.092\n",
      " Average Precision  (AP) @[ IoU=0.50:0.95 | area=medium | maxDets=1000 ] = 0.326\n",
      " Average Precision  (AP) @[ IoU=0.50:0.95 | area= large | maxDets=1000 ] = 0.539\n",
      " Average Recall     (AR) @[ IoU=0.50:0.95 | area=   all | maxDets=100 ] = 0.391\n",
      " Average Recall     (AR) @[ IoU=0.50:0.95 | area=   all | maxDets=300 ] = 0.408\n",
      " Average Recall     (AR) @[ IoU=0.50:0.95 | area=   all | maxDets=1000 ] = 0.408\n",
      " Average Recall     (AR) @[ IoU=0.50:0.95 | area= small | maxDets=1000 ] = 0.189\n",
      " Average Recall     (AR) @[ IoU=0.50:0.95 | area=medium | maxDets=1000 ] = 0.491\n",
      " Average Recall     (AR) @[ IoU=0.50:0.95 | area= large | maxDets=1000 ] = 0.679\n",
      "\n",
      "OrderedDict([('bbox_mAP', 0.255), ('bbox_mAP_50', 0.4364), ('bbox_mAP_75', 0.2616), ('bbox_mAP_s', 0.0692), ('bbox_mAP_m', 0.2755), ('bbox_mAP_l', 0.4229), ('bbox_mAP_copypaste', '0.2550 0.4364 0.2616 0.0692 0.2755 0.4229'), ('mAP', 0.2763), ('mAP_50', 0.5124), ('mAP_75', 0.2678), ('mAP_s', 0.0917), ('mAP_m', 0.3259), ('mAP_l', 0.5386)])\n"
     ]
    }
   ],
   "source": [
    "!cd ../mmdetection && python3 tools/test.py configs/ssd/ssd300_coco.py weights/ssd.pth --eval bbox proposal --eval-options \"classwise=True\""
   ]
  },
  {
   "attachments": {},
   "cell_type": "markdown",
   "metadata": {},
   "source": [
    "## Citation\n",
    "```\n",
    "@article{Liu_2016,\n",
    "   title={SSD: Single Shot MultiBox Detector},\n",
    "   journal={ECCV},\n",
    "   author={Liu, Wei and Anguelov, Dragomir and Erhan, Dumitru and Szegedy, Christian and Reed, Scott and Fu, Cheng-Yang and Berg, Alexander C.},\n",
    "   year={2016},\n",
    "}\n",
    "```"
   ]
  },
  {
   "cell_type": "markdown",
   "metadata": {},
   "source": []
  }
 ],
 "metadata": {
  "kernelspec": {
   "display_name": "venv",
   "language": "python",
   "name": "python3"
  },
  "language_info": {
   "codemirror_mode": {
    "name": "ipython",
    "version": 3
   },
   "file_extension": ".py",
   "mimetype": "text/x-python",
   "name": "python",
   "nbconvert_exporter": "python",
   "pygments_lexer": "ipython3",
   "version": "3.10.6"
  },
  "orig_nbformat": 4,
  "vscode": {
   "interpreter": {
    "hash": "4699cf9c421c489f2df8c5a4abaf44e761466dcfd500de2ded9c32b0fa81c014"
   }
  }
 },
 "nbformat": 4,
 "nbformat_minor": 2
}
