{
 "cells": [
  {
   "cell_type": "code",
   "execution_count": 1,
   "metadata": {},
   "outputs": [
    {
     "name": "stdout",
     "output_type": "stream",
     "text": [
      "2.0.0 False\n"
     ]
    },
    {
     "name": "stderr",
     "output_type": "stream",
     "text": [
      "/Users/rudyorre/object-detection/venv/lib/python3.10/site-packages/mmcv/__init__.py:20: UserWarning: On January 1, 2023, MMCV will release v2.0.0, in which it will remove components related to the training process and add a data transformation module. In addition, it will rename the package names mmcv to mmcv-lite and mmcv-full to mmcv. See https://github.com/open-mmlab/mmcv/blob/master/docs/en/compatibility.md for more details.\n",
      "  warnings.warn(\n"
     ]
    },
    {
     "name": "stdout",
     "output_type": "stream",
     "text": [
      "2.28.2\n",
      "not available\n",
      "clang 14.0.0\n"
     ]
    }
   ],
   "source": [
    "# Check Pytorch installation\n",
    "import torch, torchvision\n",
    "print(torch.__version__, torch.cuda.is_available())\n",
    "\n",
    "# Check MMDetection installation\n",
    "import mmdet\n",
    "print(mmdet.__version__)\n",
    "# from mmdet.apis import multi_gpu_test, single_gpu_test\n",
    "\n",
    "# Check mmcv installation\n",
    "from mmcv.ops import get_compiling_cuda_version, get_compiler_version\n",
    "print(get_compiling_cuda_version())\n",
    "print(get_compiler_version())"
   ]
  },
  {
   "attachments": {},
   "cell_type": "markdown",
   "metadata": {},
   "source": [
    "# Mask R-CNN (R-50-FPN Backbone)\n",
    "The model weights were taken from https://github.com/open-mmlab/mmdetection/tree/master/configs/mask_rcnn."
   ]
  },
  {
   "cell_type": "code",
   "execution_count": 2,
   "metadata": {},
   "outputs": [
    {
     "name": "stdout",
     "output_type": "stream",
     "text": [
      "  % Total    % Received % Xferd  Average Speed   Time    Time     Time  Current\n",
      "                                 Dload  Upload   Total   Spent    Left  Speed\n",
      "100  169M  100  169M    0     0   961k      0  0:03:00  0:03:00 --:--:--  955k33  925k0:02:44  0:00:17  644k788k0:03:00  0:02:58  0:00:02 1116k\n"
     ]
    }
   ],
   "source": [
    "# Weights\n",
    "!curl https://download.openmmlab.com/mmdetection/v2.0/mask_rcnn/mask_rcnn_r50_fpn_1x_coco/mask_rcnn_r50_fpn_1x_coco_20200205-d4b0c5d6.pth -o ../mmdetection/weights/mask-rcnn.pth"
   ]
  },
  {
   "cell_type": "code",
   "execution_count": 3,
   "metadata": {},
   "outputs": [
    {
     "name": "stdout",
     "output_type": "stream",
     "text": [
      "/Users/rudyorre/object-detection/venv/lib/python3.10/site-packages/mmcv/__init__.py:20: UserWarning: On January 1, 2023, MMCV will release v2.0.0, in which it will remove components related to the training process and add a data transformation module. In addition, it will rename the package names mmcv to mmcv-lite and mmcv-full to mmcv. See https://github.com/open-mmlab/mmcv/blob/master/docs/en/compatibility.md for more details.\n",
      "  warnings.warn(\n",
      "/Users/rudyorre/object-detection/venv/lib/python3.10/site-packages/mmdet/utils/setup_env.py:38: UserWarning: Setting OMP_NUM_THREADS environment variable for each process to be 1 in default, to avoid your system being overloaded, please further tune the variable for optimal performance in your application as needed.\n",
      "  warnings.warn(\n",
      "/Users/rudyorre/object-detection/venv/lib/python3.10/site-packages/mmdet/utils/setup_env.py:48: UserWarning: Setting MKL_NUM_THREADS environment variable for each process to be 1 in default, to avoid your system being overloaded, please further tune the variable for optimal performance in your application as needed.\n",
      "  warnings.warn(\n",
      "loading annotations into memory...\n",
      "Done (t=0.28s)\n",
      "creating index...\n",
      "index created!\n",
      "load checkpoint from local path: weights/mask-rcnn.pth\n",
      "[>>>>>>>>>>>>>>>>>>>>>>>>>] 5000/5000, 0.1 task/s, elapsed: 34896s, ETA:     0s\n",
      "Evaluating bbox...\n",
      "Loading and preparing results...\n",
      "DONE (t=0.26s)\n",
      "creating index...\n",
      "index created!\n",
      "Running per image evaluation...\n",
      "Evaluate annotation type *bbox*\n",
      "DONE (t=10.84s).\n",
      "Accumulating evaluation results...\n",
      "DONE (t=2.95s).\n",
      "\n",
      " Average Precision  (AP) @[ IoU=0.50:0.95 | area=   all | maxDets=100 ] = 0.382\n",
      " Average Precision  (AP) @[ IoU=0.50      | area=   all | maxDets=1000 ] = 0.588\n",
      " Average Precision  (AP) @[ IoU=0.75      | area=   all | maxDets=1000 ] = 0.414\n",
      " Average Precision  (AP) @[ IoU=0.50:0.95 | area= small | maxDets=1000 ] = 0.219\n",
      " Average Precision  (AP) @[ IoU=0.50:0.95 | area=medium | maxDets=1000 ] = 0.409\n",
      " Average Precision  (AP) @[ IoU=0.50:0.95 | area= large | maxDets=1000 ] = 0.495\n",
      " Average Recall     (AR) @[ IoU=0.50:0.95 | area=   all | maxDets=100 ] = 0.524\n",
      " Average Recall     (AR) @[ IoU=0.50:0.95 | area=   all | maxDets=300 ] = 0.524\n",
      " Average Recall     (AR) @[ IoU=0.50:0.95 | area=   all | maxDets=1000 ] = 0.524\n",
      " Average Recall     (AR) @[ IoU=0.50:0.95 | area= small | maxDets=1000 ] = 0.329\n",
      " Average Recall     (AR) @[ IoU=0.50:0.95 | area=medium | maxDets=1000 ] = 0.557\n",
      " Average Recall     (AR) @[ IoU=0.50:0.95 | area= large | maxDets=1000 ] = 0.662\n",
      "\n",
      "\n",
      "+---------------+-------+--------------+-------+----------------+-------+\n",
      "| category      | AP    | category     | AP    | category       | AP    |\n",
      "+---------------+-------+--------------+-------+----------------+-------+\n",
      "| person        | 0.529 | bicycle      | 0.289 | car            | 0.431 |\n",
      "| motorcycle    | 0.403 | airplane     | 0.585 | bus            | 0.616 |\n",
      "| train         | 0.581 | truck        | 0.317 | boat           | 0.258 |\n",
      "| traffic light | 0.265 | fire hydrant | 0.661 | stop sign      | 0.628 |\n",
      "| parking meter | 0.433 | bench        | 0.217 | bird           | 0.335 |\n",
      "| cat           | 0.591 | dog          | 0.559 | horse          | 0.538 |\n",
      "| sheep         | 0.468 | cow          | 0.513 | elephant       | 0.593 |\n",
      "| bear          | 0.625 | zebra        | 0.640 | giraffe        | 0.636 |\n",
      "| backpack      | 0.148 | umbrella     | 0.344 | handbag        | 0.118 |\n",
      "| tie           | 0.295 | suitcase     | 0.357 | frisbee        | 0.632 |\n",
      "| skis          | 0.213 | snowboard    | 0.309 | sports ball    | 0.432 |\n",
      "| kite          | 0.391 | baseball bat | 0.238 | baseball glove | 0.332 |\n",
      "| skateboard    | 0.476 | surfboard    | 0.354 | tennis racket  | 0.441 |\n",
      "| bottle        | 0.379 | wine glass   | 0.335 | cup            | 0.404 |\n",
      "| fork          | 0.268 | knife        | 0.137 | spoon          | 0.113 |\n",
      "| bowl          | 0.399 | banana       | 0.217 | apple          | 0.185 |\n",
      "| sandwich      | 0.322 | orange       | 0.296 | broccoli       | 0.221 |\n",
      "| carrot        | 0.195 | hot dog      | 0.284 | pizza          | 0.476 |\n",
      "| donut         | 0.419 | cake         | 0.328 | chair          | 0.252 |\n",
      "| couch         | 0.382 | potted plant | 0.250 | bed            | 0.396 |\n",
      "| dining table  | 0.249 | toilet       | 0.549 | tv             | 0.536 |\n",
      "| laptop        | 0.567 | mouse        | 0.582 | remote         | 0.269 |\n",
      "| keyboard      | 0.488 | cell phone   | 0.325 | microwave      | 0.560 |\n",
      "| oven          | 0.302 | toaster      | 0.390 | sink           | 0.344 |\n",
      "| refrigerator  | 0.521 | book         | 0.141 | clock          | 0.481 |\n",
      "| vase          | 0.347 | scissors     | 0.258 | teddy bear     | 0.417 |\n",
      "| hair drier    | 0.001 | toothbrush   | 0.146 | None           | None  |\n",
      "+---------------+-------+--------------+-------+----------------+-------+\n",
      "\n",
      "Evaluating proposal...\n",
      "Loading and preparing results...\n",
      "DONE (t=0.45s)\n",
      "creating index...\n",
      "index created!\n",
      "Running per image evaluation...\n",
      "Evaluate annotation type *bbox*\n",
      "DONE (t=15.77s).\n",
      "Accumulating evaluation results...\n",
      "DONE (t=2.09s).\n",
      "\n",
      " Average Precision  (AP) @[ IoU=0.50:0.95 | area=   all | maxDets=100 ] = 0.430\n",
      " Average Precision  (AP) @[ IoU=0.50      | area=   all | maxDets=1000 ] = 0.685\n",
      " Average Precision  (AP) @[ IoU=0.75      | area=   all | maxDets=1000 ] = 0.460\n",
      " Average Precision  (AP) @[ IoU=0.50:0.95 | area= small | maxDets=1000 ] = 0.281\n",
      " Average Precision  (AP) @[ IoU=0.50:0.95 | area=medium | maxDets=1000 ] = 0.490\n",
      " Average Precision  (AP) @[ IoU=0.50:0.95 | area= large | maxDets=1000 ] = 0.609\n",
      " Average Recall     (AR) @[ IoU=0.50:0.95 | area=   all | maxDets=100 ] = 0.562\n",
      " Average Recall     (AR) @[ IoU=0.50:0.95 | area=   all | maxDets=300 ] = 0.562\n",
      " Average Recall     (AR) @[ IoU=0.50:0.95 | area=   all | maxDets=1000 ] = 0.562\n",
      " Average Recall     (AR) @[ IoU=0.50:0.95 | area= small | maxDets=1000 ] = 0.406\n",
      " Average Recall     (AR) @[ IoU=0.50:0.95 | area=medium | maxDets=1000 ] = 0.623\n",
      " Average Recall     (AR) @[ IoU=0.50:0.95 | area= large | maxDets=1000 ] = 0.751\n",
      "\n",
      "OrderedDict([('bbox_mAP', 0.3815), ('bbox_mAP_50', 0.5882), ('bbox_mAP_75', 0.4136), ('bbox_mAP_s', 0.2194), ('bbox_mAP_m', 0.4094), ('bbox_mAP_l', 0.4949), ('bbox_mAP_copypaste', '0.3815 0.5882 0.4136 0.2194 0.4094 0.4949'), ('mAP', 0.4302), ('mAP_50', 0.6846), ('mAP_75', 0.4598), ('mAP_s', 0.2809), ('mAP_m', 0.4904), ('mAP_l', 0.6093)])\n"
     ]
    }
   ],
   "source": [
    "!cd ../mmdetection && python3 tools/test.py configs/mask_rcnn/mask_rcnn_r50_fpn_1x_coco.py weights/mask-rcnn.pth --eval bbox proposal --eval-options \"classwise=True\""
   ]
  },
  {
   "attachments": {},
   "cell_type": "markdown",
   "metadata": {},
   "source": [
    "## Citation\n",
    "```\n",
    "@article{He_2017,\n",
    "   title={Mask R-CNN},\n",
    "   journal={2017 IEEE International Conference on Computer Vision (ICCV)},\n",
    "   publisher={IEEE},\n",
    "   author={He, Kaiming and Gkioxari, Georgia and Dollar, Piotr and Girshick, Ross},\n",
    "   year={2017},\n",
    "   month={Oct}\n",
    "}\n",
    "```"
   ]
  },
  {
   "cell_type": "markdown",
   "metadata": {},
   "source": []
  }
 ],
 "metadata": {
  "kernelspec": {
   "display_name": "venv",
   "language": "python",
   "name": "python3"
  },
  "language_info": {
   "codemirror_mode": {
    "name": "ipython",
    "version": 3
   },
   "file_extension": ".py",
   "mimetype": "text/x-python",
   "name": "python",
   "nbconvert_exporter": "python",
   "pygments_lexer": "ipython3",
   "version": "3.10.6"
  },
  "orig_nbformat": 4,
  "vscode": {
   "interpreter": {
    "hash": "4699cf9c421c489f2df8c5a4abaf44e761466dcfd500de2ded9c32b0fa81c014"
   }
  }
 },
 "nbformat": 4,
 "nbformat_minor": 2
}
