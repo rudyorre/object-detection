{
 "cells": [
  {
   "cell_type": "code",
   "execution_count": 1,
   "metadata": {},
   "outputs": [
    {
     "name": "stdout",
     "output_type": "stream",
     "text": [
      "2.0.0 False\n",
      "2.28.2\n",
      "not available\n",
      "clang 14.0.0\n"
     ]
    },
    {
     "name": "stderr",
     "output_type": "stream",
     "text": [
      "/Users/rudyorre/object-detection/venv/lib/python3.10/site-packages/mmcv/__init__.py:20: UserWarning: On January 1, 2023, MMCV will release v2.0.0, in which it will remove components related to the training process and add a data transformation module. In addition, it will rename the package names mmcv to mmcv-lite and mmcv-full to mmcv. See https://github.com/open-mmlab/mmcv/blob/master/docs/en/compatibility.md for more details.\n",
      "  warnings.warn(\n"
     ]
    }
   ],
   "source": [
    "# Check Pytorch installation\n",
    "import torch, torchvision\n",
    "print(torch.__version__, torch.cuda.is_available())\n",
    "\n",
    "# Check MMDetection installation\n",
    "import mmdet\n",
    "print(mmdet.__version__)\n",
    "# from mmdet.apis import multi_gpu_test, single_gpu_test\n",
    "\n",
    "# Check mmcv installation\n",
    "from mmcv.ops import get_compiling_cuda_version, get_compiler_version\n",
    "print(get_compiling_cuda_version())\n",
    "print(get_compiler_version())"
   ]
  },
  {
   "attachments": {},
   "cell_type": "markdown",
   "metadata": {},
   "source": [
    "# Cascade R-CNN (R-50-FPN Backbone)\n",
    "The model weights were taken from https://github.com/open-mmlab/mmdetection/tree/master/configs/cascade_rcnn."
   ]
  },
  {
   "cell_type": "code",
   "execution_count": 2,
   "metadata": {},
   "outputs": [
    {
     "name": "stdout",
     "output_type": "stream",
     "text": [
      "  % Total    % Received % Xferd  Average Speed   Time    Time     Time  Current\n",
      "                                 Dload  Upload   Total   Spent    Left  Speed\n",
      "100  264M  100  264M    0     0  1011k      0  0:04:28  0:04:28 --:--:--  724k   0   982k      0  0:04:36  0:00:14  0:04:22 1045k1013k      0  0:04:27  0:00:30  0:03:57  969k25k      0  0:04:24  0:00:44  0:03:40  965k  1044k      0  0:04:19  0:01:13  0:03:06 1169k:17  0:01:22  0:02:55 1189k 0:01:29  0:02:49  970k4M   44  117M    0     0  1048k      0  0:04:18  0:01:54  0:02:24  961k15 1051k49k      0  0:04:18  0:02:19  0:01:59 1097k   55  147M    0     0  1045k      0  0:04:19  0:02:24  0:01:55  937k  1048k      0  0:04:18  0:02:34  0:01:44 1011k0:03:35  0:00:45 1005k   0  0:04:20  0:04:05  0:00:15  922k0:00:07  977k\n"
     ]
    }
   ],
   "source": [
    "# Weights\n",
    "!curl https://download.openmmlab.com/mmdetection/v2.0/cascade_rcnn/cascade_rcnn_r50_fpn_1x_coco/cascade_rcnn_r50_fpn_1x_coco_20200316-3dc56deb.pth -o ../mmdetection/weights/cascade-rcnn.pth"
   ]
  },
  {
   "cell_type": "code",
   "execution_count": 3,
   "metadata": {},
   "outputs": [
    {
     "name": "stdout",
     "output_type": "stream",
     "text": [
      "/Users/rudyorre/object-detection/venv/lib/python3.10/site-packages/mmcv/__init__.py:20: UserWarning: On January 1, 2023, MMCV will release v2.0.0, in which it will remove components related to the training process and add a data transformation module. In addition, it will rename the package names mmcv to mmcv-lite and mmcv-full to mmcv. See https://github.com/open-mmlab/mmcv/blob/master/docs/en/compatibility.md for more details.\n",
      "  warnings.warn(\n",
      "/Users/rudyorre/object-detection/venv/lib/python3.10/site-packages/mmdet/utils/setup_env.py:38: UserWarning: Setting OMP_NUM_THREADS environment variable for each process to be 1 in default, to avoid your system being overloaded, please further tune the variable for optimal performance in your application as needed.\n",
      "  warnings.warn(\n",
      "/Users/rudyorre/object-detection/venv/lib/python3.10/site-packages/mmdet/utils/setup_env.py:48: UserWarning: Setting MKL_NUM_THREADS environment variable for each process to be 1 in default, to avoid your system being overloaded, please further tune the variable for optimal performance in your application as needed.\n",
      "  warnings.warn(\n",
      "loading annotations into memory...\n",
      "Done (t=0.25s)\n",
      "creating index...\n",
      "index created!\n",
      "load checkpoint from local path: weights/cascade-rcnn.pth\n",
      "The model and loaded state dict do not match exactly\n",
      "\n",
      "missing keys in source state_dict: roi_head.mask_head.0.convs.0.conv.weight, roi_head.mask_head.0.convs.0.conv.bias, roi_head.mask_head.0.convs.1.conv.weight, roi_head.mask_head.0.convs.1.conv.bias, roi_head.mask_head.0.convs.2.conv.weight, roi_head.mask_head.0.convs.2.conv.bias, roi_head.mask_head.0.convs.3.conv.weight, roi_head.mask_head.0.convs.3.conv.bias, roi_head.mask_head.0.upsample.weight, roi_head.mask_head.0.upsample.bias, roi_head.mask_head.0.conv_logits.weight, roi_head.mask_head.0.conv_logits.bias, roi_head.mask_head.1.convs.0.conv.weight, roi_head.mask_head.1.convs.0.conv.bias, roi_head.mask_head.1.convs.1.conv.weight, roi_head.mask_head.1.convs.1.conv.bias, roi_head.mask_head.1.convs.2.conv.weight, roi_head.mask_head.1.convs.2.conv.bias, roi_head.mask_head.1.convs.3.conv.weight, roi_head.mask_head.1.convs.3.conv.bias, roi_head.mask_head.1.upsample.weight, roi_head.mask_head.1.upsample.bias, roi_head.mask_head.1.conv_logits.weight, roi_head.mask_head.1.conv_logits.bias, roi_head.mask_head.2.convs.0.conv.weight, roi_head.mask_head.2.convs.0.conv.bias, roi_head.mask_head.2.convs.1.conv.weight, roi_head.mask_head.2.convs.1.conv.bias, roi_head.mask_head.2.convs.2.conv.weight, roi_head.mask_head.2.convs.2.conv.bias, roi_head.mask_head.2.convs.3.conv.weight, roi_head.mask_head.2.convs.3.conv.bias, roi_head.mask_head.2.upsample.weight, roi_head.mask_head.2.upsample.bias, roi_head.mask_head.2.conv_logits.weight, roi_head.mask_head.2.conv_logits.bias\n",
      "\n",
      "[>>>>>>>>>>>>>>>>>>>>>>>>>] 5000/5000, 0.4 task/s, elapsed: 13968s, ETA:     0s\n",
      "Evaluating bbox...\n",
      "Loading and preparing results...\n",
      "DONE (t=0.28s)\n",
      "creating index...\n",
      "index created!\n",
      "Running per image evaluation...\n",
      "Evaluate annotation type *bbox*\n",
      "DONE (t=10.78s).\n",
      "Accumulating evaluation results...\n",
      "DONE (t=2.82s).\n",
      "\n",
      " Average Precision  (AP) @[ IoU=0.50:0.95 | area=   all | maxDets=100 ] = 0.403\n",
      " Average Precision  (AP) @[ IoU=0.50      | area=   all | maxDets=1000 ] = 0.586\n",
      " Average Precision  (AP) @[ IoU=0.75      | area=   all | maxDets=1000 ] = 0.440\n",
      " Average Precision  (AP) @[ IoU=0.50:0.95 | area= small | maxDets=1000 ] = 0.225\n",
      " Average Precision  (AP) @[ IoU=0.50:0.95 | area=medium | maxDets=1000 ] = 0.438\n",
      " Average Precision  (AP) @[ IoU=0.50:0.95 | area= large | maxDets=1000 ] = 0.529\n",
      " Average Recall     (AR) @[ IoU=0.50:0.95 | area=   all | maxDets=100 ] = 0.543\n",
      " Average Recall     (AR) @[ IoU=0.50:0.95 | area=   all | maxDets=300 ] = 0.543\n",
      " Average Recall     (AR) @[ IoU=0.50:0.95 | area=   all | maxDets=1000 ] = 0.543\n",
      " Average Recall     (AR) @[ IoU=0.50:0.95 | area= small | maxDets=1000 ] = 0.333\n",
      " Average Recall     (AR) @[ IoU=0.50:0.95 | area=medium | maxDets=1000 ] = 0.582\n",
      " Average Recall     (AR) @[ IoU=0.50:0.95 | area= large | maxDets=1000 ] = 0.689\n",
      "\n",
      "\n",
      "+---------------+-------+--------------+-------+----------------+-------+\n",
      "| category      | AP    | category     | AP    | category       | AP    |\n",
      "+---------------+-------+--------------+-------+----------------+-------+\n",
      "| person        | 0.555 | bicycle      | 0.297 | car            | 0.448 |\n",
      "| motorcycle    | 0.409 | airplane     | 0.646 | bus            | 0.642 |\n",
      "| train         | 0.633 | truck        | 0.360 | boat           | 0.274 |\n",
      "| traffic light | 0.273 | fire hydrant | 0.652 | stop sign      | 0.667 |\n",
      "| parking meter | 0.440 | bench        | 0.225 | bird           | 0.353 |\n",
      "| cat           | 0.658 | dog          | 0.627 | horse          | 0.578 |\n",
      "| sheep         | 0.487 | cow          | 0.548 | elephant       | 0.626 |\n",
      "| bear          | 0.679 | zebra        | 0.668 | giraffe        | 0.684 |\n",
      "| backpack      | 0.159 | umbrella     | 0.361 | handbag        | 0.130 |\n",
      "| tie           | 0.311 | suitcase     | 0.374 | frisbee        | 0.635 |\n",
      "| skis          | 0.241 | snowboard    | 0.375 | sports ball    | 0.451 |\n",
      "| kite          | 0.407 | baseball bat | 0.266 | baseball glove | 0.345 |\n",
      "| skateboard    | 0.507 | surfboard    | 0.364 | tennis racket  | 0.452 |\n",
      "| bottle        | 0.384 | wine glass   | 0.349 | cup            | 0.422 |\n",
      "| fork          | 0.321 | knife        | 0.167 | spoon          | 0.120 |\n",
      "| bowl          | 0.423 | banana       | 0.237 | apple          | 0.196 |\n",
      "| sandwich      | 0.333 | orange       | 0.324 | broccoli       | 0.228 |\n",
      "| carrot        | 0.223 | hot dog      | 0.309 | pizza          | 0.512 |\n",
      "| donut         | 0.438 | cake         | 0.355 | chair          | 0.259 |\n",
      "| couch         | 0.410 | potted plant | 0.259 | bed            | 0.407 |\n",
      "| dining table  | 0.269 | toilet       | 0.553 | tv             | 0.560 |\n",
      "| laptop        | 0.588 | mouse        | 0.604 | remote         | 0.295 |\n",
      "| keyboard      | 0.510 | cell phone   | 0.349 | microwave      | 0.561 |\n",
      "| oven          | 0.317 | toaster      | 0.289 | sink           | 0.357 |\n",
      "| refrigerator  | 0.557 | book         | 0.150 | clock          | 0.511 |\n",
      "| vase          | 0.384 | scissors     | 0.268 | teddy bear     | 0.458 |\n",
      "| hair drier    | 0.000 | toothbrush   | 0.207 | None           | None  |\n",
      "+---------------+-------+--------------+-------+----------------+-------+\n",
      "\n",
      "Evaluating proposal...\n",
      "Loading and preparing results...\n",
      "DONE (t=0.45s)\n",
      "creating index...\n",
      "index created!\n",
      "Running per image evaluation...\n",
      "Evaluate annotation type *bbox*\n",
      "DONE (t=15.17s).\n",
      "Accumulating evaluation results...\n",
      "DONE (t=2.04s).\n",
      "\n",
      " Average Precision  (AP) @[ IoU=0.50:0.95 | area=   all | maxDets=100 ] = 0.453\n",
      " Average Precision  (AP) @[ IoU=0.50      | area=   all | maxDets=1000 ] = 0.684\n",
      " Average Precision  (AP) @[ IoU=0.75      | area=   all | maxDets=1000 ] = 0.484\n",
      " Average Precision  (AP) @[ IoU=0.50:0.95 | area= small | maxDets=1000 ] = 0.291\n",
      " Average Precision  (AP) @[ IoU=0.50:0.95 | area=medium | maxDets=1000 ] = 0.513\n",
      " Average Precision  (AP) @[ IoU=0.50:0.95 | area= large | maxDets=1000 ] = 0.647\n",
      " Average Recall     (AR) @[ IoU=0.50:0.95 | area=   all | maxDets=100 ] = 0.578\n",
      " Average Recall     (AR) @[ IoU=0.50:0.95 | area=   all | maxDets=300 ] = 0.578\n",
      " Average Recall     (AR) @[ IoU=0.50:0.95 | area=   all | maxDets=1000 ] = 0.578\n",
      " Average Recall     (AR) @[ IoU=0.50:0.95 | area= small | maxDets=1000 ] = 0.416\n",
      " Average Recall     (AR) @[ IoU=0.50:0.95 | area=medium | maxDets=1000 ] = 0.642\n",
      " Average Recall     (AR) @[ IoU=0.50:0.95 | area= large | maxDets=1000 ] = 0.775\n",
      "\n",
      "OrderedDict([('bbox_mAP', 0.4034), ('bbox_mAP_50', 0.5864), ('bbox_mAP_75', 0.4395), ('bbox_mAP_s', 0.2251), ('bbox_mAP_m', 0.4383), ('bbox_mAP_l', 0.5292), ('bbox_mAP_copypaste', '0.4034 0.5864 0.4395 0.2251 0.4383 0.5292'), ('mAP', 0.4529), ('mAP_50', 0.6836), ('mAP_75', 0.4842), ('mAP_s', 0.291), ('mAP_m', 0.513), ('mAP_l', 0.6467)])\n"
     ]
    }
   ],
   "source": [
    "!cd ../mmdetection && python3 tools/test.py configs/cascade_rcnn/cascade_mask_rcnn_r50_fpn_1x_coco.py weights/cascade-rcnn.pth --eval bbox proposal --eval-options \"classwise=True\""
   ]
  },
  {
   "attachments": {},
   "cell_type": "markdown",
   "metadata": {},
   "source": [
    "## Citation\n",
    "```\n",
    "@article{Cai_2019,\n",
    "   title={Cascade R-CNN: High Quality Object Detection and Instance Segmentation},\n",
    "   ISSN={1939-3539},\n",
    "   url={http://dx.doi.org/10.1109/tpami.2019.2956516},\n",
    "   DOI={10.1109/tpami.2019.2956516},\n",
    "   journal={IEEE Transactions on Pattern Analysis and Machine Intelligence},\n",
    "   publisher={Institute of Electrical and Electronics Engineers (IEEE)},\n",
    "   author={Cai, Zhaowei and Vasconcelos, Nuno},\n",
    "   year={2019},\n",
    "   pages={1–1}\n",
    "}\n",
    "```"
   ]
  },
  {
   "cell_type": "markdown",
   "metadata": {},
   "source": []
  }
 ],
 "metadata": {
  "kernelspec": {
   "display_name": "venv",
   "language": "python",
   "name": "python3"
  },
  "language_info": {
   "codemirror_mode": {
    "name": "ipython",
    "version": 3
   },
   "file_extension": ".py",
   "mimetype": "text/x-python",
   "name": "python",
   "nbconvert_exporter": "python",
   "pygments_lexer": "ipython3",
   "version": "3.10.6"
  },
  "orig_nbformat": 4,
  "vscode": {
   "interpreter": {
    "hash": "4699cf9c421c489f2df8c5a4abaf44e761466dcfd500de2ded9c32b0fa81c014"
   }
  }
 },
 "nbformat": 4,
 "nbformat_minor": 2
}
